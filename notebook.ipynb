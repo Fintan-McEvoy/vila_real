{
 "cells": [
  {
   "cell_type": "code",
   "execution_count": 8,
   "id": "e97abf34",
   "metadata": {},
   "outputs": [
    {
     "name": "stdout",
     "output_type": "stream",
     "text": [
      "Requirement already satisfied: scikit-image in /localhome/ikvh/czv164/anaconda3/lib/python3.6/site-packages (0.17.2)\n",
      "Requirement already satisfied: numpy>=1.15.1 in /localhome/ikvh/czv164/anaconda3/lib/python3.6/site-packages (from scikit-image) (1.19.2)\n",
      "Requirement already satisfied: scipy>=1.0.1 in /localhome/ikvh/czv164/anaconda3/lib/python3.6/site-packages (from scikit-image) (1.5.2)\n",
      "Requirement already satisfied: matplotlib!=3.0.0,>=2.0.0 in /localhome/ikvh/czv164/anaconda3/lib/python3.6/site-packages (from scikit-image) (3.3.4)\n",
      "Requirement already satisfied: networkx>=2.0 in /localhome/ikvh/czv164/anaconda3/lib/python3.6/site-packages (from scikit-image) (2.7.1)\n",
      "Requirement already satisfied: pillow!=7.1.0,!=7.1.1,>=4.3.0 in /localhome/ikvh/czv164/anaconda3/lib/python3.6/site-packages (from scikit-image) (8.4.0)\n",
      "Requirement already satisfied: imageio>=2.3.0 in /localhome/ikvh/czv164/anaconda3/lib/python3.6/site-packages (from scikit-image) (2.13.1)\n",
      "Requirement already satisfied: tifffile>=2019.7.26 in /localhome/ikvh/czv164/anaconda3/lib/python3.6/site-packages (from scikit-image) (2020.6.3)\n",
      "Requirement already satisfied: PyWavelets>=1.1.1 in /localhome/ikvh/czv164/anaconda3/lib/python3.6/site-packages (from scikit-image) (1.1.1)\n",
      "Requirement already satisfied: kiwisolver>=1.0.1 in /localhome/ikvh/czv164/anaconda3/lib/python3.6/site-packages (from matplotlib!=3.0.0,>=2.0.0->scikit-image) (1.3.1)\n",
      "Requirement already satisfied: python-dateutil>=2.1 in /localhome/ikvh/czv164/anaconda3/lib/python3.6/site-packages (from matplotlib!=3.0.0,>=2.0.0->scikit-image) (2.8.2)\n",
      "Requirement already satisfied: pyparsing!=2.0.4,!=2.1.2,!=2.1.6,>=2.0.3 in /localhome/ikvh/czv164/anaconda3/lib/python3.6/site-packages (from matplotlib!=3.0.0,>=2.0.0->scikit-image) (3.0.4)\n",
      "Requirement already satisfied: cycler>=0.10 in /localhome/ikvh/czv164/anaconda3/lib/python3.6/site-packages (from matplotlib!=3.0.0,>=2.0.0->scikit-image) (0.11.0)\n",
      "Requirement already satisfied: six>=1.5 in /localhome/ikvh/czv164/anaconda3/lib/python3.6/site-packages (from python-dateutil>=2.1->matplotlib!=3.0.0,>=2.0.0->scikit-image) (1.16.0)\n",
      "Requirement already satisfied: pydub in /localhome/ikvh/czv164/anaconda3/lib/python3.6/site-packages (0.25.1)\n"
     ]
    }
   ],
   "source": [
    "\n",
    "\n",
    "%run ./scripts/setup.py\n",
    "!pip install scikit-image\n",
    "!pip install pydub\n"
   ]
  },
  {
   "cell_type": "markdown",
   "id": "f9f27516",
   "metadata": {
    "slideshow": {
     "slide_type": "slide"
    }
   },
   "source": [
    "# <center>Research in Ultrasound Imaging  </center> \n",
    "<br>\n",
    "\n",
    "\n",
    "## <center>Detail of Some Approaches </center>\n",
    "\n",
    "\n",
    "\n",
    "\n",
    "<center>Fintan J. McEvoy</center>\n",
    "\n",
    "<br><br><br><br>\n",
    "<center><font color=brown>University of Copenhagen</font></center>"
   ]
  },
  {
   "cell_type": "markdown",
   "id": "6aafbde1",
   "metadata": {
    "slideshow": {
     "slide_type": "slide"
    }
   },
   "source": [
    "\n",
    "Ultrasonographic predictors of response of European eels (Anguilla anguilla) to hormonal treatment for induction of ovarian development<br>\n",
    "Anna V. Müller, Fintan J. McEvoy, Jonna Tomkiewicz, Sebastian N. Politis, \\& José M. Amigo<br>\n",
    "American Journal of Veterinary Research, https://doi.org/10.2460/ajvr.77.5.478<br><br><br>\n",
    "\n",
    "Fingerprinting of Doppler audio signals from the common carotid artery<br>\n",
    "Anna V. Müller, José M. Amigo, Nicoline R. Wichmann1, Frederik B. Witschas \\& Fintan J. McEvoy<br>\n",
    "Scientific Reports, https://doi.org/10.1038/s41598-020-59274-y"
   ]
  },
  {
   "cell_type": "code",
   "execution_count": null,
   "id": "8d7fb51f",
   "metadata": {
    "slideshow": {
     "slide_type": "slide"
    }
   },
   "outputs": [],
   "source": [
    "image1 = cv2.imread(home+\"/images/eel.png\")\n",
    "cv2.imshow('Abstract', image1); cv2.waitKey(0); cv2.waitKey(1)\n",
    "\n",
    "\n",
    "image2 = cv2.imread(home+\"/images/eel_us.jpg\")\n",
    "cv2.imshow('Ovary ultrasound', image2); cv2.waitKey(0); cv2.destroyAllWindows(); cv2.waitKey(1)"
   ]
  },
  {
   "cell_type": "markdown",
   "id": "f2f13b3f",
   "metadata": {
    "slideshow": {
     "slide_type": "slide"
    }
   },
   "source": [
    "## Looking for texture differences\n",
    "\n",
    "### Using the grey co matrix"
   ]
  },
  {
   "cell_type": "code",
   "execution_count": null,
   "id": "e44f296f",
   "metadata": {},
   "outputs": [],
   "source": [
    "image = cv2.imread(home+\"/images/GCM.png\")\n",
    "cv2.imshow('greycomatrix', image); cv2.waitKey(0); cv2.destroyAllWindows(); cv2.waitKey(1)"
   ]
  },
  {
   "cell_type": "code",
   "execution_count": null,
   "id": "d52abbfc",
   "metadata": {
    "slideshow": {
     "slide_type": "slide"
    }
   },
   "outputs": [],
   "source": [
    "#Get image data as an array\n",
    "img = Image.open(home+'/images/spleen_us.jpg')\n",
    "gray_image=img.convert('L')\n",
    "gray_image_array=np.asarray(gray_image)\n",
    "plt.imshow(gray_image_array,cmap='gray', vmin = 0, vmax = 255)\n",
    "plt.show()\n",
    "global image_grey\n",
    "image_grey = gray_image_array\n",
    "image_grey.shape"
   ]
  },
  {
   "cell_type": "code",
   "execution_count": null,
   "id": "a14e22f4",
   "metadata": {
    "slideshow": {
     "slide_type": "slide"
    }
   },
   "outputs": [],
   "source": [
    "spleenTexture(image_grey)"
   ]
  },
  {
   "cell_type": "code",
   "execution_count": null,
   "id": "14e9a6d6",
   "metadata": {
    "scrolled": true,
    "slideshow": {
     "slide_type": "slide"
    }
   },
   "outputs": [],
   "source": [
    "GCM()\n",
    "df=GCM()\n",
    "df\n"
   ]
  },
  {
   "cell_type": "code",
   "execution_count": null,
   "id": "f9e07eba",
   "metadata": {},
   "outputs": [],
   "source": [
    "df_norm=DataNorm()\n",
    "df_norm"
   ]
  },
  {
   "cell_type": "code",
   "execution_count": null,
   "id": "c9ce7f90",
   "metadata": {
    "slideshow": {
     "slide_type": "slide"
    }
   },
   "outputs": [],
   "source": [
    "df_norm.describe()"
   ]
  },
  {
   "cell_type": "code",
   "execution_count": null,
   "id": "0c25a140",
   "metadata": {
    "slideshow": {
     "slide_type": "slide"
    }
   },
   "outputs": [],
   "source": [
    "#Run the PCA\n",
    "x=df.values\n",
    "pca_texture = PCA(n_components=2)\n",
    "principalComponents_texture = pca_texture.fit_transform(x)\n",
    "\n",
    "#Create a dataframe of components\n",
    "global principal_texture_Df\n",
    "principal_texture_Df = pd.DataFrame(data = principalComponents_texture ,\n",
    "                                    columns = ['principal component 1', 'principal component 2']\n",
    "                                    , index=['spleen_1','spleen_2','spleen_3','spleen_4','adipose_1','adipose_2','adipose_3','adipose_4'])"
   ]
  },
  {
   "cell_type": "code",
   "execution_count": null,
   "id": "e576ee22",
   "metadata": {
    "slideshow": {
     "slide_type": "slide"
    }
   },
   "outputs": [],
   "source": [
    "principal_texture_Df"
   ]
  },
  {
   "cell_type": "code",
   "execution_count": null,
   "id": "48e84527",
   "metadata": {},
   "outputs": [],
   "source": [
    "PlotPCA(principal_texture_Df, df_norm)"
   ]
  },
  {
   "cell_type": "code",
   "execution_count": null,
   "id": "785f5ece",
   "metadata": {
    "slideshow": {
     "slide_type": "slide"
    }
   },
   "outputs": [],
   "source": [
    "print('Explained variation per principal component: {}'.format(pca_texture.explained_variance_ratio_))"
   ]
  },
  {
   "cell_type": "code",
   "execution_count": null,
   "id": "4803f7c4",
   "metadata": {
    "slideshow": {
     "slide_type": "slide"
    }
   },
   "outputs": [],
   "source": [
    "array_loadings=(abs( pca_texture.components_ ))\n",
    "df_pca_loadings = pd.DataFrame(pca_texture.components_)\n",
    "df_loadings = pd.DataFrame(array_loadings, \n",
    "                  index = ['PC1', 'PC2'], \n",
    "                  columns = ['ASM', 'contrast','energy','dissimilarity', 'correlation', 'homogeneity'])\n",
    "df_loadings"
   ]
  },
  {
   "cell_type": "markdown",
   "id": "862288d6",
   "metadata": {
    "slideshow": {
     "slide_type": "slide"
    }
   },
   "source": [
    "### <center>oooOooo</center>"
   ]
  },
  {
   "cell_type": "code",
   "execution_count": null,
   "id": "745e89bc",
   "metadata": {
    "slideshow": {
     "slide_type": "slide"
    }
   },
   "outputs": [],
   "source": [
    "image10 = cv2.imread(home+\"/images/fingerPrinting.png\")\n",
    "cv2.imshow('Abstract', image10); cv2.waitKey(0);  cv2.waitKey(1)\n",
    "\n",
    "\n",
    "image11 = cv2.imread(home+\"/images/spectra_fig.jpg\")\n",
    "cv2.imshow('Time and Frequency Domains', image11); cv2.waitKey(0); cv2.destroyAllWindows(); cv2.waitKey(2)"
   ]
  },
  {
   "cell_type": "code",
   "execution_count": null,
   "id": "97e3718d",
   "metadata": {
    "slideshow": {
     "slide_type": "slide"
    }
   },
   "outputs": [],
   "source": [
    "ShowVideo(home+'/images/chaplin.mp4')"
   ]
  },
  {
   "cell_type": "code",
   "execution_count": null,
   "id": "97697761",
   "metadata": {
    "slideshow": {
     "slide_type": "slide"
    }
   },
   "outputs": [],
   "source": [
    "plot_PowerSpectrum(home+\"/images/cross.mp3\")"
   ]
  },
  {
   "cell_type": "code",
   "execution_count": null,
   "id": "ad322c6b",
   "metadata": {
    "slideshow": {
     "slide_type": "slide"
    }
   },
   "outputs": [],
   "source": [
    "pcm16_signed_integers=PowerSpectrum(home+\"/images/cross.mp3\")\n",
    "fs = 10e3\n",
    "f, Pxx_den = signal.welch(pcm16_signed_integers, fs)\n",
    "plt.semilogy(f, Pxx_den)\n",
    "plt.ylim([1e-7, 1e10])\n",
    "plt.xlabel('frequency [Hz]')\n",
    "plt.ylabel('PSD [V**2/Hz]')\n",
    "plt.show()"
   ]
  },
  {
   "cell_type": "code",
   "execution_count": null,
   "id": "a1a5e54a",
   "metadata": {},
   "outputs": [],
   "source": [
    "#Find peaks from scipy.signal \"find_peaks\"\n",
    "x=Pxx_den[50:100]\n",
    "peaks, _ = find_peaks(x, height=0)\n",
    "peaks, properties=find_peaks(x, height=0, width=1)\n",
    "plt.plot(x)\n",
    "plt.plot(peaks, x[peaks], \"x\")\n",
    "plt.show()\n"
   ]
  },
  {
   "cell_type": "code",
   "execution_count": null,
   "id": "6b5d3ec5",
   "metadata": {},
   "outputs": [],
   "source": [
    "\n",
    "plt.plot(x)\n",
    "\n",
    "plt.plot(peaks, x[peaks], \"x\")\n",
    "plt.plot(np.zeros_like(x), \"--\", color=\"gray\")\n",
    "plt.vlines(x=peaks, ymin=x[peaks] - properties[\"prominences\"],\n",
    "ymax = x[peaks], color = \"C1\")\n",
    "plt.hlines(y=properties[\"width_heights\"], xmin=properties[\"left_ips\"],\n",
    "\n",
    "           xmax=properties[\"right_ips\"], color = \"C1\")\n",
    "plt.show()\n"
   ]
  },
  {
   "cell_type": "code",
   "execution_count": null,
   "id": "301c3234",
   "metadata": {
    "slideshow": {
     "slide_type": "slide"
    }
   },
   "outputs": [],
   "source": [
    "properties[\"prominences\"], properties[\"widths\"]\n"
   ]
  },
  {
   "cell_type": "markdown",
   "id": "ee2452de",
   "metadata": {
    "slideshow": {
     "slide_type": "slide"
    }
   },
   "source": [
    "### <center>oooOooo</center>"
   ]
  },
  {
   "cell_type": "markdown",
   "id": "7344019b",
   "metadata": {
    "slideshow": {
     "slide_type": "slide"
    }
   },
   "source": [
    "# <center>Ultrasound Image analysis and  statistics </center> \n",
    "<br>\n",
    "\n",
    "<center>using</center>\n",
    "\n",
    "\n",
    "## <center>Python</center>\n",
    "\n",
    "\n",
    "## <center>Principal Component Analsyis</center>\n",
    "\n",
    "<br>\n",
    "\n",
    "<center>Fintan J. McEvoy</center>\n",
    "\n",
    "<br><br><br><br>\n",
    "<center><font color=brown>University of Copenhagen</font></center>"
   ]
  },
  {
   "cell_type": "code",
   "execution_count": null,
   "id": "de364001",
   "metadata": {},
   "outputs": [],
   "source": [
    "\n",
    "\n",
    "%load_ext watermark\n",
    "\n",
    "# python, ipython, packages, and machine characteristics\n",
    "%watermark -v -m -p os,wget,pandas,skimage,sklearn,scipy,numpy,matplotlib,cv2,pydub,watermark \n",
    "\n",
    "# date\n",
    "print (\" \")\n",
    "%watermark -u -n -t -z \n",
    "\n"
   ]
  },
  {
   "cell_type": "code",
   "execution_count": null,
   "id": "d9704015",
   "metadata": {},
   "outputs": [],
   "source": []
  }
 ],
 "metadata": {
  "celltoolbar": "Slideshow",
  "kernelspec": {
   "display_name": "Python 3",
   "language": "python",
   "name": "python3"
  },
  "language_info": {
   "codemirror_mode": {
    "name": "ipython",
    "version": 3
   },
   "file_extension": ".py",
   "mimetype": "text/x-python",
   "name": "python",
   "nbconvert_exporter": "python",
   "pygments_lexer": "ipython3",
   "version": "3.6.13"
  }
 },
 "nbformat": 4,
 "nbformat_minor": 5
}
